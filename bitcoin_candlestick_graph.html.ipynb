{
 "cells": [
  {
   "cell_type": "code",
   "execution_count": null,
   "id": "09a737bc-37de-4654-ac5e-8cf17c76f118",
   "metadata": {},
   "outputs": [],
   "source": []
  },
  {
   "cell_type": "code",
   "execution_count": 75,
   "id": "81b4e676-6fd6-4d4d-9c86-b5fb69c91b9b",
   "metadata": {},
   "outputs": [
    {
     "name": "stdout",
     "output_type": "stream",
     "text": [
      "Defaulting to user installation because normal site-packages is not writeable\n",
      "Looking in links: /usr/share/pip-wheels\n",
      "Collecting pycoingecko\n",
      "  Downloading pycoingecko-3.2.0-py3-none-any.whl.metadata (16 kB)\n",
      "Requirement already satisfied: requests in ./.local/lib/python3.10/site-packages (from pycoingecko) (2.32.3)\n",
      "Requirement already satisfied: charset-normalizer<4,>=2 in /opt/conda/envs/anaconda-2024.02-py310/lib/python3.10/site-packages (from requests->pycoingecko) (2.0.4)\n",
      "Requirement already satisfied: idna<4,>=2.5 in /opt/conda/envs/anaconda-2024.02-py310/lib/python3.10/site-packages (from requests->pycoingecko) (3.4)\n",
      "Requirement already satisfied: urllib3<3,>=1.21.1 in /opt/conda/envs/anaconda-2024.02-py310/lib/python3.10/site-packages (from requests->pycoingecko) (2.0.7)\n",
      "Requirement already satisfied: certifi>=2017.4.17 in /opt/conda/envs/anaconda-2024.02-py310/lib/python3.10/site-packages (from requests->pycoingecko) (2024.2.2)\n",
      "Downloading pycoingecko-3.2.0-py3-none-any.whl (10 kB)\n",
      "Installing collected packages: pycoingecko\n",
      "Successfully installed pycoingecko-3.2.0\n",
      "Defaulting to user installation because normal site-packages is not writeable\n",
      "Looking in links: /usr/share/pip-wheels\n",
      "Requirement already satisfied: plotly in /opt/conda/envs/anaconda-2024.02-py310/lib/python3.10/site-packages (5.19.0)\n",
      "Requirement already satisfied: tenacity>=6.2.0 in /opt/conda/envs/anaconda-2024.02-py310/lib/python3.10/site-packages (from plotly) (8.2.2)\n",
      "Requirement already satisfied: packaging in /opt/conda/envs/anaconda-2024.02-py310/lib/python3.10/site-packages (from plotly) (23.2)\n"
     ]
    },
    {
     "data": {
      "text/plain": [
       "'./bitcoin_candlestick_graph.html'"
      ]
     },
     "execution_count": 75,
     "metadata": {},
     "output_type": "execute_result"
    }
   ],
   "source": [
    "# Install required packages\n",
    "!pip install pycoingecko\n",
    "!pip install plotly\n",
    "\n",
    "from pycoingecko import CoinGeckoAPI\n",
    "cg = CoinGeckoAPI()\n",
    "\n",
    "bitcoin_data = cg.get_coin_market_chart_by_id(id=\"bitcoin\", vs_currency='usd', days=30)\n",
    "\n",
    "import pandas as pd\n",
    "\n",
    "df = pd.DataFrame(bitcoin_data['prices'], columns=['TimeStamp', 'Price'])\n",
    "\n",
    "df['Date'] = pd.to_datetime(df['TimeStamp'], unit='ms')\n",
    "\n",
    "candle_stick = df.groupby(df.Date.dt.date).agg({'Price': ['min', 'max', 'first', 'last']})\n",
    "\n",
    "import plotly.graph_objects as go\n",
    "import plotly.offline\n",
    "\n",
    "fig = go.Figure(data=[go.Candlestick(x=candle_stick.index,\n",
    "                                    open=candle_stick['Price']['first'],\n",
    "                                    high=candle_stick['Price']['max'],\n",
    "                                    low=candle_stick['Price']['min'],\n",
    "                                    close=candle_stick['Price']['last'])])\n",
    "\n",
    "fig.update_layout(xaxis_rangeslider_visible=False, \n",
    "                  xaxis_title='Date',\n",
    "                  yaxis_title=\"Price(USD $)\",\n",
    "                  title=\"Bitcoin Candlestick Chart Over Past 30 Days\")\n",
    "\n",
    "plotly.offline.plot(fig, filename='./bitcoin_candlestick_graph.html', auto_open=False)"
   ]
  },
  {
   "cell_type": "code",
   "execution_count": null,
   "id": "f9c1e922-4165-451d-8214-c50a26a48d60",
   "metadata": {},
   "outputs": [],
   "source": []
  }
 ],
 "metadata": {
  "kernelspec": {
   "display_name": "anaconda-2024.02-py310",
   "language": "python",
   "name": "conda-env-anaconda-2024.02-py310-py"
  },
  "language_info": {
   "codemirror_mode": {
    "name": "ipython",
    "version": 3
   },
   "file_extension": ".py",
   "mimetype": "text/x-python",
   "name": "python",
   "nbconvert_exporter": "python",
   "pygments_lexer": "ipython3",
   "version": "3.10.14"
  }
 },
 "nbformat": 4,
 "nbformat_minor": 5
}
